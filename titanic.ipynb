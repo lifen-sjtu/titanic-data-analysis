{
 "cells": [
  {
   "cell_type": "code",
   "execution_count": 2,
   "metadata": {},
   "outputs": [
    {
     "name": "stdout",
     "output_type": "stream",
     "text": [
      "Populating the interactive namespace from numpy and matplotlib\n"
     ]
    }
   ],
   "source": [
    "import pandas as pd\n",
    "import numpy as ny\n",
    "import seaborn as sns \n",
    "%pylab inline\n",
    "import matplotlib.pyplot as plt\n",
    "import numpy as np"
   ]
  },
  {
   "cell_type": "code",
   "execution_count": 3,
   "metadata": {},
   "outputs": [],
   "source": [
    "titanic = pd.read_csv('titanic-data.csv')"
   ]
  },
  {
   "cell_type": "code",
   "execution_count": 4,
   "metadata": {},
   "outputs": [
    {
     "data": {
      "text/html": [
       "<div>\n",
       "<style scoped>\n",
       "    .dataframe tbody tr th:only-of-type {\n",
       "        vertical-align: middle;\n",
       "    }\n",
       "\n",
       "    .dataframe tbody tr th {\n",
       "        vertical-align: top;\n",
       "    }\n",
       "\n",
       "    .dataframe thead th {\n",
       "        text-align: right;\n",
       "    }\n",
       "</style>\n",
       "<table border=\"1\" class=\"dataframe\">\n",
       "  <thead>\n",
       "    <tr style=\"text-align: right;\">\n",
       "      <th></th>\n",
       "      <th>PassengerId</th>\n",
       "      <th>Survived</th>\n",
       "      <th>Pclass</th>\n",
       "      <th>Name</th>\n",
       "      <th>Sex</th>\n",
       "      <th>Age</th>\n",
       "      <th>SibSp</th>\n",
       "      <th>Parch</th>\n",
       "      <th>Ticket</th>\n",
       "      <th>Fare</th>\n",
       "      <th>Cabin</th>\n",
       "      <th>Embarked</th>\n",
       "    </tr>\n",
       "  </thead>\n",
       "  <tbody>\n",
       "    <tr>\n",
       "      <th>0</th>\n",
       "      <td>1</td>\n",
       "      <td>0</td>\n",
       "      <td>3</td>\n",
       "      <td>Braund, Mr. Owen Harris</td>\n",
       "      <td>male</td>\n",
       "      <td>22.0</td>\n",
       "      <td>1</td>\n",
       "      <td>0</td>\n",
       "      <td>A/5 21171</td>\n",
       "      <td>7.2500</td>\n",
       "      <td>NaN</td>\n",
       "      <td>S</td>\n",
       "    </tr>\n",
       "    <tr>\n",
       "      <th>1</th>\n",
       "      <td>2</td>\n",
       "      <td>1</td>\n",
       "      <td>1</td>\n",
       "      <td>Cumings, Mrs. John Bradley (Florence Briggs Th...</td>\n",
       "      <td>female</td>\n",
       "      <td>38.0</td>\n",
       "      <td>1</td>\n",
       "      <td>0</td>\n",
       "      <td>PC 17599</td>\n",
       "      <td>71.2833</td>\n",
       "      <td>C85</td>\n",
       "      <td>C</td>\n",
       "    </tr>\n",
       "    <tr>\n",
       "      <th>2</th>\n",
       "      <td>3</td>\n",
       "      <td>1</td>\n",
       "      <td>3</td>\n",
       "      <td>Heikkinen, Miss. Laina</td>\n",
       "      <td>female</td>\n",
       "      <td>26.0</td>\n",
       "      <td>0</td>\n",
       "      <td>0</td>\n",
       "      <td>STON/O2. 3101282</td>\n",
       "      <td>7.9250</td>\n",
       "      <td>NaN</td>\n",
       "      <td>S</td>\n",
       "    </tr>\n",
       "    <tr>\n",
       "      <th>3</th>\n",
       "      <td>4</td>\n",
       "      <td>1</td>\n",
       "      <td>1</td>\n",
       "      <td>Futrelle, Mrs. Jacques Heath (Lily May Peel)</td>\n",
       "      <td>female</td>\n",
       "      <td>35.0</td>\n",
       "      <td>1</td>\n",
       "      <td>0</td>\n",
       "      <td>113803</td>\n",
       "      <td>53.1000</td>\n",
       "      <td>C123</td>\n",
       "      <td>S</td>\n",
       "    </tr>\n",
       "    <tr>\n",
       "      <th>4</th>\n",
       "      <td>5</td>\n",
       "      <td>0</td>\n",
       "      <td>3</td>\n",
       "      <td>Allen, Mr. William Henry</td>\n",
       "      <td>male</td>\n",
       "      <td>35.0</td>\n",
       "      <td>0</td>\n",
       "      <td>0</td>\n",
       "      <td>373450</td>\n",
       "      <td>8.0500</td>\n",
       "      <td>NaN</td>\n",
       "      <td>S</td>\n",
       "    </tr>\n",
       "  </tbody>\n",
       "</table>\n",
       "</div>"
      ],
      "text/plain": [
       "   PassengerId  Survived  Pclass  \\\n",
       "0            1         0       3   \n",
       "1            2         1       1   \n",
       "2            3         1       3   \n",
       "3            4         1       1   \n",
       "4            5         0       3   \n",
       "\n",
       "                                                Name     Sex   Age  SibSp  \\\n",
       "0                            Braund, Mr. Owen Harris    male  22.0      1   \n",
       "1  Cumings, Mrs. John Bradley (Florence Briggs Th...  female  38.0      1   \n",
       "2                             Heikkinen, Miss. Laina  female  26.0      0   \n",
       "3       Futrelle, Mrs. Jacques Heath (Lily May Peel)  female  35.0      1   \n",
       "4                           Allen, Mr. William Henry    male  35.0      0   \n",
       "\n",
       "   Parch            Ticket     Fare Cabin Embarked  \n",
       "0      0         A/5 21171   7.2500   NaN        S  \n",
       "1      0          PC 17599  71.2833   C85        C  \n",
       "2      0  STON/O2. 3101282   7.9250   NaN        S  \n",
       "3      0            113803  53.1000  C123        S  \n",
       "4      0            373450   8.0500   NaN        S  "
      ]
     },
     "execution_count": 4,
     "metadata": {},
     "output_type": "execute_result"
    }
   ],
   "source": [
    "titanic.head()"
   ]
  },
  {
   "cell_type": "code",
   "execution_count": 152,
   "metadata": {},
   "outputs": [],
   "source": [
    "passengers = titanic['PassengerId'].unique()\n",
    "num_passengers = len(passengers)\n",
    "num_survived = titanic['Survived'].sum()"
   ]
  },
  {
   "cell_type": "code",
   "execution_count": 7,
   "metadata": {},
   "outputs": [
    {
     "data": {
      "text/plain": [
       "Text(0.5,1,u'Correlation of survived rate with passengers class')"
      ]
     },
     "execution_count": 7,
     "metadata": {},
     "output_type": "execute_result"
    },
    {
     "data": {
      "image/png": "[encoded data removed]",
      "text/plain": [
       "<matplotlib.figure.Figure at 0x1157c1e90>"
      ]
     },
     "metadata": {},
     "output_type": "display_data"
    }
   ],
   "source": [
    "################################\n",
    "#  1.correlation bertween survived rate and Pclass\n",
    "################################\n",
    "x_names = ['Class 1','Class 2','Class 3']\n",
    "x = np.arange(len(x_names))\n",
    "num_passengers_by_pclass = titanic.groupby('Pclass').count()['PassengerId']\n",
    "num_surived_by_pclass = titanic.groupby('Pclass').sum()['Survived']\n",
    "survived_rate_pclass = num_surived_by_pclass / num_passengers_by_pclass\n",
    "plt.plot(x,survived_rate_pclass,marker='o')\n",
    "plt.xticks(x,x_names)\n",
    "plt.title('Correlation of survived rate with passengers class')\n"
   ]
  },
  {
   "cell_type": "code",
   "execution_count": 235,
   "metadata": {},
   "outputs": [
    {
     "data": {
      "text/plain": [
       "<matplotlib.legend.Legend at 0x114f73ad0>"
      ]
     },
     "execution_count": 235,
     "metadata": {},
     "output_type": "execute_result"
    },
    {
     "data": {
      "image/png": "[encoded data removed]",
      "text/plain": [
       "<matplotlib.figure.Figure at 0x1a1902ad90>"
      ]
     },
     "metadata": {},
     "output_type": "display_data"
    }
   ],
   "source": [
    "################################\n",
    "#  2.correlation bertween survived rate,Pclass,Cabin\n",
    "################################\n",
    "num_cabins_by_pcalss = titanic.groupby('Pclass').Cabin.nunique()\n",
    "\n",
    "x_names = ['Class 1','Class 2','Class 3']\n",
    "x = np.arange(len(x_names))\n",
    "plt.bar(x,num_cabins_by_pcalss,width = 0.1,facecolor = 'yellowgreen',edgecolor = 'white',label = '# of cabins for each calss')\n",
    "plt.bar(x + 0.1,num_passengers_by_pclass,width = 0.1,facecolor = 'lightskyblue',edgecolor = 'white',label = '# of passengers for each calss')\n",
    "plt.bar(x + 0.2,num_surived_by_pclass,width = 0.1,facecolor = 'red',edgecolor = 'white',label = '# of passengers survived for each calss')\n",
    "plt.xticks(x,x_names)\n",
    "plt.legend()"
   ]
  },
  {
   "cell_type": "code",
   "execution_count": 217,
   "metadata": {},
   "outputs": [
    {
     "name": "stdout",
     "output_type": "stream",
     "text": [
      "num_passengers: 891\n",
      "num_passengers_in_cabin: 204\n",
      "num_passengers_not_in_cabin: 687\n",
      "num_survived_by_cabin: 136\n",
      "num_survived_not_by_cabin: 206\n"
     ]
    },
    {
     "data": {
      "text/plain": [
       "<matplotlib.legend.Legend at 0x1146ea210>"
      ]
     },
     "execution_count": 217,
     "metadata": {},
     "output_type": "execute_result"
    },
    {
     "data": {
      "image/png": "[encoded data removed]",
      "text/plain": [
       "<matplotlib.figure.Figure at 0x1146ea410>"
      ]
     },
     "metadata": {},
     "output_type": "display_data"
    }
   ],
   "source": [
    "################################\n",
    "#  3.correlation bertween survived rate and cabins\n",
    "################################\n",
    "num_passengers_by_cabin = titanic.groupby('Cabin').sum()\n",
    "num_survived_by_cabin = num_passengers_by_cabin['Survived'].sum()\n",
    "num_survived_not_by_cabin = num_survived - num_survived_by_cabin\n",
    "num_passengers_in_cabin = titanic['Cabin'].count()\n",
    "num_passengers_not_in_cabin = num_passengers - num_passengers_in_cabin\n",
    "print 'num_passengers:',num_passengers\n",
    "print 'num_passengers_in_cabin:',num_passengers_in_cabin\n",
    "print 'num_passengers_not_in_cabin:',num_passengers_not_in_cabin\n",
    "print 'num_survived_by_cabin:',num_survived_by_cabin\n",
    "print 'num_survived_not_by_cabin:',num_survived_not_by_cabin\n",
    "\n",
    "x_names = ['Not In Cabins','In Cabins']\n",
    "x = np.arange(len(x_names))\n",
    "y1 = [num_passengers_not_in_cabin,num_passengers_in_cabin]\n",
    "y2 = [num_survived_not_by_cabin,num_survived_by_cabin]\n",
    "plt.bar(x - 0.05,y1,width = 0.1,facecolor = 'lightskyblue',edgecolor = 'white',label = '# of passengers in or not in cabins')\n",
    "plt.bar(x + 0.05,y2,width = 0.1,facecolor = 'yellowgreen',edgecolor = 'white',label = '# od passengers survived in cabins or not')\n",
    "plt.xticks(x,x_names)\n",
    "plt.legend()"
   ]
  },
  {
   "cell_type": "code",
   "execution_count": 239,
   "metadata": {},
   "outputs": [
    {
     "data": {
      "text/plain": [
       "<matplotlib.legend.Legend at 0x114d41150>"
      ]
     },
     "execution_count": 239,
     "metadata": {},
     "output_type": "execute_result"
    },
    {
     "data": {
      "image/png": "[encoded data removed]",
      "text/plain": [
       "<matplotlib.figure.Figure at 0x114695d50>"
      ]
     },
     "metadata": {},
     "output_type": "display_data"
    }
   ],
   "source": [
    "################################\n",
    "#  4.correlation between sex and survived rate\n",
    "################################\n",
    "\n",
    "data_by_sex = titanic.groupby('Sex',as_index = False).count()\n",
    "num_passengers_by_sex = data_by_sex['PassengerId']\n",
    "num_passengers_survived_by_sex = titanic.groupby('Sex',as_index = False).sum()['Survived']\n",
    "\n",
    "x_names = ['Female','Male']\n",
    "x = np.arange(len(x_names))\n",
    "plt.bar(x,num_passengers_by_sex,width = 0.1,facecolor = 'lightskyblue',edgecolor = 'white',label = '# of passengers group by sex')\n",
    "plt.bar(x + 0.1,num_passengers_survived_by_sex,width = 0.1,facecolor = 'yellowgreen',edgecolor = 'white',label = '# of passengers survived by sex')\n",
    "plt.xticks(x,x_names)\n",
    "plt.legend()"
   ]
  },
  {
   "cell_type": "code",
   "execution_count": 241,
   "metadata": {},
   "outputs": [
    {
     "data": {
      "text/html": [
       "<div>\n",
       "<style scoped>\n",
       "    .dataframe tbody tr th:only-of-type {\n",
       "        vertical-align: middle;\n",
       "    }\n",
       "\n",
       "    .dataframe tbody tr th {\n",
       "        vertical-align: top;\n",
       "    }\n",
       "\n",
       "    .dataframe thead th {\n",
       "        text-align: right;\n",
       "    }\n",
       "</style>\n",
       "<table border=\"1\" class=\"dataframe\">\n",
       "  <thead>\n",
       "    <tr style=\"text-align: right;\">\n",
       "      <th></th>\n",
       "      <th>PassengerId</th>\n",
       "      <th>Pclass</th>\n",
       "      <th>Age</th>\n",
       "      <th>SibSp</th>\n",
       "      <th>Parch</th>\n",
       "      <th>Fare</th>\n",
       "    </tr>\n",
       "    <tr>\n",
       "      <th>Survived</th>\n",
       "      <th></th>\n",
       "      <th></th>\n",
       "      <th></th>\n",
       "      <th></th>\n",
       "      <th></th>\n",
       "      <th></th>\n",
       "    </tr>\n",
       "  </thead>\n",
       "  <tbody>\n",
       "    <tr>\n",
       "      <th>0</th>\n",
       "      <td>447.016393</td>\n",
       "      <td>2.531876</td>\n",
       "      <td>30.626179</td>\n",
       "      <td>0.553734</td>\n",
       "      <td>0.329690</td>\n",
       "      <td>22.117887</td>\n",
       "    </tr>\n",
       "    <tr>\n",
       "      <th>1</th>\n",
       "      <td>444.368421</td>\n",
       "      <td>1.950292</td>\n",
       "      <td>28.343690</td>\n",
       "      <td>0.473684</td>\n",
       "      <td>0.464912</td>\n",
       "      <td>48.395408</td>\n",
       "    </tr>\n",
       "  </tbody>\n",
       "</table>\n",
       "</div>"
      ],
      "text/plain": [
       "          PassengerId    Pclass        Age     SibSp     Parch       Fare\n",
       "Survived                                                                 \n",
       "0          447.016393  2.531876  30.626179  0.553734  0.329690  22.117887\n",
       "1          444.368421  1.950292  28.343690  0.473684  0.464912  48.395408"
      ]
     },
     "execution_count": 241,
     "metadata": {},
     "output_type": "execute_result"
    }
   ],
   "source": [
    "################################\n",
    "#  4.correlation between age and survived rate\n",
    "################################\n",
    "\n",
    "data_by_survived = titanic.groupby('Survived').mean()\n",
    "data_by_survived"
   ]
  },
  {
   "cell_type": "code",
   "execution_count": 263,
   "metadata": {},
   "outputs": [
    {
     "data": {
      "text/plain": [
       "<matplotlib.legend.Legend at 0x1a19735250>"
      ]
     },
     "execution_count": 263,
     "metadata": {},
     "output_type": "execute_result"
    },
    {
     "data": {
      "image/png": "[encoded data removed]",
      "text/plain": [
       "<matplotlib.figure.Figure at 0x1a19698310>"
      ]
     },
     "metadata": {},
     "output_type": "display_data"
    }
   ],
   "source": [
    "################################\n",
    "#  5.correlation between Embarked and survived rate\n",
    "################################\n",
    "num_by_embarked = titanic.groupby('Embarked').count()['Survived']\n",
    "num_survived_by_embarked = titanic.groupby('Embarked').sum()['Survived']\n",
    "\n",
    "x_names = ['C','Q','S']\n",
    "x = np.arange(len(x_names))\n",
    "plt.bar(x,num_by_embarked,width = 0.1,facecolor = 'lightskyblue',edgecolor = 'white',label = '# of passengers from three different places')\n",
    "plt.bar(x + 0.1,num_survived_by_embarked,width = 0.1,facecolor = 'yellowgreen',edgecolor = 'white',label = '# of passengers suvived')\n",
    "plt.xticks(x,x_names)\n",
    "plt.legend()"
   ]
  },
  {
   "cell_type": "code",
   "execution_count": 278,
   "metadata": {},
   "outputs": [
    {
     "data": {
      "text/plain": [
       "Text(0.5,1,u'Survived rate of different place')"
      ]
     },
     "execution_count": 278,
     "metadata": {},
     "output_type": "execute_result"
    },
    {
     "data": {
      "image/png": "[encoded data removed]",
      "text/plain": [
       "<matplotlib.figure.Figure at 0x1a1a01b950>"
      ]
     },
     "metadata": {},
     "output_type": "display_data"
    }
   ],
   "source": [
    "plt.plot(num_survived_by_embarked/num_by_embarked,marker='o')\n",
    "plt.title('Survived rate of different place')"
   ]
  },
  {
   "cell_type": "code",
   "execution_count": 280,
   "metadata": {},
   "outputs": [
    {
     "data": {
      "text/plain": [
       "<matplotlib.legend.Legend at 0x1a1a25ee50>"
      ]
     },
     "execution_count": 280,
     "metadata": {},
     "output_type": "execute_result"
    },
    {
     "data": {
      "image/png": "[encoded data removed]",
      "text/plain": [
       "<matplotlib.figure.Figure at 0x1a1922bd90>"
      ]
     },
     "metadata": {},
     "output_type": "display_data"
    }
   ],
   "source": [
    "################################\n",
    "#  5.1 Since passengers from Southampton have a lower survived rate, the next step is digging into it \n",
    "#      and finding possible reason\n",
    "################################\n",
    "\n",
    "# Check if it's related to pclass\n",
    "num_by_embarked_pclass = titanic.groupby(['Embarked','Pclass'],as_index = False).count()\n",
    "num_survived_by_embarked_pclass = titanic.groupby(['Embarked','Pclass'],as_index = False).sum()\n",
    "survived_rate = num_survived_by_embarked_pclass['Survived'] / num_by_embarked_pclass['Survived']\n",
    "\n",
    "x_names = ['Class 1','Class 2','Class 3']\n",
    "x = np.arange(len(x_names))\n",
    "c_rate = [survived_rate.iloc[0],survived_rate.iloc[3],survived_rate.iloc[6]]\n",
    "q_rate = [survived_rate.iloc[1],survived_rate.iloc[4],survived_rate.iloc[7]]\n",
    "s_rate = [survived_rate.iloc[2],survived_rate.iloc[5],survived_rate.iloc[8]]\n",
    "plt.plot(x,c_rate,color = 'lightskyblue',linewidth=2,linestyle='dashed',marker='o',label = 'Survived rate of C')\n",
    "plt.plot(x,q_rate,color = 'yellowgreen',linewidth=2,linestyle='dashed',marker='o',label = 'Survived rate of Q')\n",
    "plt.plot(x,s_rate,color = 'red',linewidth=2,linestyle='dashed',marker='o',label = 'Survived rate of S')\n",
    "plt.xticks(x,x_names)\n",
    "plt.legend()"
   ]
  }
 ],
 "metadata": {
  "kernelspec": {
   "display_name": "Python 2",
   "language": "python",
   "name": "python2"
  },
  "language_info": {
   "codemirror_mode": {
    "name": "ipython",
    "version": 2
   },
   "file_extension": ".py",
   "mimetype": "text/x-python",
   "name": "python",
   "nbconvert_exporter": "python",
   "pygments_lexer": "ipython2",
   "version": "2.7.14"
  }
 },
 "nbformat": 4,
 "nbformat_minor": 2
}
